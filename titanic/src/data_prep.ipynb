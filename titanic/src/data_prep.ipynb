{
 "cells": [
  {
   "cell_type": "markdown",
   "metadata": {},
   "source": [
    "# Import libraries"
   ]
  },
  {
   "cell_type": "code",
   "execution_count": 174,
   "metadata": {},
   "outputs": [],
   "source": [
    "from pathlib import Path\n",
    "import os\n",
    "\n",
    "import pandas as pd\n",
    "import numpy as np\n",
    "import my_functions as my_func\n",
    "\n",
    "import seaborn as sns\n",
    "import matplotlib.pyplot as plt\n",
    "\n",
    "# ML models \n",
    "from autogluon.tabular import TabularPredictor\n",
    "#from autogluon.timeseries import TimeSeriesDataFrame, TimeSeriesPredictor\n"
   ]
  },
  {
   "cell_type": "markdown",
   "metadata": {},
   "source": [
    "# Data"
   ]
  },
  {
   "cell_type": "code",
   "execution_count": 146,
   "metadata": {},
   "outputs": [
    {
     "data": {
      "text/plain": [
       "PosixPath('/Users/work/Desktop/github/data-science-projects/titanic')"
      ]
     },
     "execution_count": 146,
     "metadata": {},
     "output_type": "execute_result"
    }
   ],
   "source": [
    "path = Path(os.getcwd()).parent      \n",
    "path"
   ]
  },
  {
   "cell_type": "code",
   "execution_count": 147,
   "metadata": {},
   "outputs": [],
   "source": [
    "train_df = pd.read_csv('/Users/work/Desktop/github/data-science-projects/titanic/data/titanic_train.csv')\n",
    "test_df = pd.read_csv(path / 'data/titanic_test.csv')"
   ]
  },
  {
   "cell_type": "markdown",
   "metadata": {},
   "source": [
    "## Data dictionary \n",
    "- PassengerId: unique identifier for each passenger\n",
    "- Survived: whether the passenger survived or not (0 = No, 1 = Yes)\n",
    "- Pclass: passenger class (1 = 1st class, 2 = 2nd class, 3 = 3rd class)\n",
    "- Name: name of the passenger\n",
    "- Sex: gender of the passenger\n",
    "- Age: age of the passenger (in years)\n",
    "- SibSp: number of siblings/spouses aboard the Titanic\n",
    "- Parch: number of parents/children aboard the Titanic\n",
    "- Ticket: ticket number\n",
    "- Fare: fare paid by the passenger\n",
    "- Cabin: cabin number\n",
    "- Embarked: port of embarkation (C = Cherbourg, Q = Queenstown, S = Southampton)"
   ]
  },
  {
   "cell_type": "markdown",
   "metadata": {},
   "source": [
    "# Data prep "
   ]
  },
  {
   "cell_type": "code",
   "execution_count": 148,
   "metadata": {},
   "outputs": [
    {
     "data": {
      "text/html": [
       "<div>\n",
       "<style scoped>\n",
       "    .dataframe tbody tr th:only-of-type {\n",
       "        vertical-align: middle;\n",
       "    }\n",
       "\n",
       "    .dataframe tbody tr th {\n",
       "        vertical-align: top;\n",
       "    }\n",
       "\n",
       "    .dataframe thead th {\n",
       "        text-align: right;\n",
       "    }\n",
       "</style>\n",
       "<table border=\"1\" class=\"dataframe\">\n",
       "  <thead>\n",
       "    <tr style=\"text-align: right;\">\n",
       "      <th></th>\n",
       "      <th>PassengerId</th>\n",
       "      <th>Survived</th>\n",
       "      <th>Pclass</th>\n",
       "      <th>Name</th>\n",
       "      <th>Sex</th>\n",
       "      <th>Age</th>\n",
       "      <th>SibSp</th>\n",
       "      <th>Parch</th>\n",
       "      <th>Ticket</th>\n",
       "      <th>Fare</th>\n",
       "      <th>Cabin</th>\n",
       "      <th>Embarked</th>\n",
       "    </tr>\n",
       "  </thead>\n",
       "  <tbody>\n",
       "    <tr>\n",
       "      <th>0</th>\n",
       "      <td>1</td>\n",
       "      <td>0</td>\n",
       "      <td>3</td>\n",
       "      <td>Braund, Mr. Owen Harris</td>\n",
       "      <td>male</td>\n",
       "      <td>22.0</td>\n",
       "      <td>1</td>\n",
       "      <td>0</td>\n",
       "      <td>A/5 21171</td>\n",
       "      <td>7.2500</td>\n",
       "      <td>NaN</td>\n",
       "      <td>S</td>\n",
       "    </tr>\n",
       "    <tr>\n",
       "      <th>1</th>\n",
       "      <td>2</td>\n",
       "      <td>1</td>\n",
       "      <td>1</td>\n",
       "      <td>Cumings, Mrs. John Bradley (Florence Briggs Th...</td>\n",
       "      <td>female</td>\n",
       "      <td>38.0</td>\n",
       "      <td>1</td>\n",
       "      <td>0</td>\n",
       "      <td>PC 17599</td>\n",
       "      <td>71.2833</td>\n",
       "      <td>C85</td>\n",
       "      <td>C</td>\n",
       "    </tr>\n",
       "    <tr>\n",
       "      <th>2</th>\n",
       "      <td>3</td>\n",
       "      <td>1</td>\n",
       "      <td>3</td>\n",
       "      <td>Heikkinen, Miss. Laina</td>\n",
       "      <td>female</td>\n",
       "      <td>26.0</td>\n",
       "      <td>0</td>\n",
       "      <td>0</td>\n",
       "      <td>STON/O2. 3101282</td>\n",
       "      <td>7.9250</td>\n",
       "      <td>NaN</td>\n",
       "      <td>S</td>\n",
       "    </tr>\n",
       "    <tr>\n",
       "      <th>3</th>\n",
       "      <td>4</td>\n",
       "      <td>1</td>\n",
       "      <td>1</td>\n",
       "      <td>Futrelle, Mrs. Jacques Heath (Lily May Peel)</td>\n",
       "      <td>female</td>\n",
       "      <td>35.0</td>\n",
       "      <td>1</td>\n",
       "      <td>0</td>\n",
       "      <td>113803</td>\n",
       "      <td>53.1000</td>\n",
       "      <td>C123</td>\n",
       "      <td>S</td>\n",
       "    </tr>\n",
       "    <tr>\n",
       "      <th>4</th>\n",
       "      <td>5</td>\n",
       "      <td>0</td>\n",
       "      <td>3</td>\n",
       "      <td>Allen, Mr. William Henry</td>\n",
       "      <td>male</td>\n",
       "      <td>35.0</td>\n",
       "      <td>0</td>\n",
       "      <td>0</td>\n",
       "      <td>373450</td>\n",
       "      <td>8.0500</td>\n",
       "      <td>NaN</td>\n",
       "      <td>S</td>\n",
       "    </tr>\n",
       "  </tbody>\n",
       "</table>\n",
       "</div>"
      ],
      "text/plain": [
       "   PassengerId  Survived  Pclass  \\\n",
       "0            1         0       3   \n",
       "1            2         1       1   \n",
       "2            3         1       3   \n",
       "3            4         1       1   \n",
       "4            5         0       3   \n",
       "\n",
       "                                                Name     Sex   Age  SibSp  \\\n",
       "0                            Braund, Mr. Owen Harris    male  22.0      1   \n",
       "1  Cumings, Mrs. John Bradley (Florence Briggs Th...  female  38.0      1   \n",
       "2                             Heikkinen, Miss. Laina  female  26.0      0   \n",
       "3       Futrelle, Mrs. Jacques Heath (Lily May Peel)  female  35.0      1   \n",
       "4                           Allen, Mr. William Henry    male  35.0      0   \n",
       "\n",
       "   Parch            Ticket     Fare Cabin Embarked  \n",
       "0      0         A/5 21171   7.2500   NaN        S  \n",
       "1      0          PC 17599  71.2833   C85        C  \n",
       "2      0  STON/O2. 3101282   7.9250   NaN        S  \n",
       "3      0            113803  53.1000  C123        S  \n",
       "4      0            373450   8.0500   NaN        S  "
      ]
     },
     "execution_count": 148,
     "metadata": {},
     "output_type": "execute_result"
    }
   ],
   "source": [
    "train_df.head()"
   ]
  },
  {
   "cell_type": "markdown",
   "metadata": {},
   "source": [
    "## Change data type "
   ]
  },
  {
   "cell_type": "code",
   "execution_count": 149,
   "metadata": {},
   "outputs": [
    {
     "name": "stdout",
     "output_type": "stream",
     "text": [
      "PassengerId      int64\n",
      "Survived         int64\n",
      "Pclass           int64\n",
      "Name            object\n",
      "Sex             object\n",
      "Age            float64\n",
      "SibSp            int64\n",
      "Parch            int64\n",
      "Ticket          object\n",
      "Fare           float64\n",
      "Cabin           object\n",
      "Embarked        object\n",
      "dtype: object\n"
     ]
    }
   ],
   "source": [
    "print(train_df.dtypes)\n",
    "\n",
    "train_df = my_func.change_dtype(dataset=train_df, dtype_list=['PassengerId','Survived','Pclass'], type=str)\n",
    "test_df = my_func.change_dtype(dataset=test_df, dtype_list=['PassengerId','Pclass'], type=str)"
   ]
  },
  {
   "cell_type": "markdown",
   "metadata": {},
   "source": [
    "## Check variables for number/percentage of null and unique values "
   ]
  },
  {
   "cell_type": "code",
   "execution_count": 150,
   "metadata": {},
   "outputs": [
    {
     "name": "stdout",
     "output_type": "stream",
     "text": [
      "PassengerId\n",
      "Number of unique values: 891 (100.0%)\n",
      "Number of null values: 0 (0.0%)\n",
      "-----------------------------------------\n",
      "Survived\n",
      "Number of unique values: 2 (0.22%)\n",
      "Number of null values: 0 (0.0%)\n",
      "-----------------------------------------\n",
      "Pclass\n",
      "Number of unique values: 3 (0.34%)\n",
      "Number of null values: 0 (0.0%)\n",
      "-----------------------------------------\n",
      "Name\n",
      "Number of unique values: 891 (100.0%)\n",
      "Number of null values: 0 (0.0%)\n",
      "-----------------------------------------\n",
      "Sex\n",
      "Number of unique values: 2 (0.22%)\n",
      "Number of null values: 0 (0.0%)\n",
      "-----------------------------------------\n",
      "Age\n",
      "Number of unique values: 88 (9.88%)\n",
      "Number of null values: 177 (19.87%)\n",
      "-----------------------------------------\n",
      "SibSp\n",
      "Number of unique values: 7 (0.79%)\n",
      "Number of null values: 0 (0.0%)\n",
      "-----------------------------------------\n",
      "Parch\n",
      "Number of unique values: 7 (0.79%)\n",
      "Number of null values: 0 (0.0%)\n",
      "-----------------------------------------\n",
      "Ticket\n",
      "Number of unique values: 681 (76.43%)\n",
      "Number of null values: 0 (0.0%)\n",
      "-----------------------------------------\n",
      "Fare\n",
      "Number of unique values: 248 (27.83%)\n",
      "Number of null values: 0 (0.0%)\n",
      "-----------------------------------------\n",
      "Cabin\n",
      "Number of unique values: 147 (16.5%)\n",
      "Number of null values: 687 (77.1%)\n",
      "-----------------------------------------\n",
      "Embarked\n",
      "Number of unique values: 3 (0.34%)\n",
      "Number of null values: 2 (0.22%)\n",
      "-----------------------------------------\n"
     ]
    }
   ],
   "source": [
    "many_nulls, many_unique_vals  = my_func.descriptive_stats(train_df)"
   ]
  },
  {
   "cell_type": "code",
   "execution_count": 151,
   "metadata": {},
   "outputs": [
    {
     "name": "stdout",
     "output_type": "stream",
     "text": [
      "Variables with many unique values (>75%): ['PassengerId', 'Name', 'Ticket']\n",
      "Variables that are over 50% null: ['Cabin']\n"
     ]
    }
   ],
   "source": [
    "print(f\"Variables with many unique values (>75%): {many_unique_vals}\")\n",
    "print(f\"Variables that are over 50% null: {many_nulls}\")"
   ]
  },
  {
   "cell_type": "markdown",
   "metadata": {},
   "source": [
    "## Drop variables that have either too many nulls and/or too many unique values\n",
    "- too many unique values are problems for categorical dtypes"
   ]
  },
  {
   "cell_type": "code",
   "execution_count": 152,
   "metadata": {},
   "outputs": [],
   "source": [
    "# drop variables that either many nulls or many unique values \n",
    "train_df = train_df.drop(['PassengerId', 'Ticket','Cabin'], axis=1)\n",
    "test_df = test_df.drop(['PassengerId', 'Ticket','Cabin'], axis=1)"
   ]
  },
  {
   "cell_type": "markdown",
   "metadata": {},
   "source": [
    "# Preliminary EDA"
   ]
  },
  {
   "cell_type": "code",
   "execution_count": 172,
   "metadata": {},
   "outputs": [
    {
     "data": {
      "text/html": [
       "<div>\n",
       "<style scoped>\n",
       "    .dataframe tbody tr th:only-of-type {\n",
       "        vertical-align: middle;\n",
       "    }\n",
       "\n",
       "    .dataframe tbody tr th {\n",
       "        vertical-align: top;\n",
       "    }\n",
       "\n",
       "    .dataframe thead th {\n",
       "        text-align: right;\n",
       "    }\n",
       "</style>\n",
       "<table border=\"1\" class=\"dataframe\">\n",
       "  <thead>\n",
       "    <tr style=\"text-align: right;\">\n",
       "      <th></th>\n",
       "      <th>Survived</th>\n",
       "      <th>Pclass</th>\n",
       "      <th>Name</th>\n",
       "      <th>Sex</th>\n",
       "      <th>Age</th>\n",
       "      <th>SibSp</th>\n",
       "      <th>Parch</th>\n",
       "      <th>Fare</th>\n",
       "      <th>Embarked</th>\n",
       "      <th>Title</th>\n",
       "    </tr>\n",
       "  </thead>\n",
       "  <tbody>\n",
       "    <tr>\n",
       "      <th>0</th>\n",
       "      <td>0</td>\n",
       "      <td>3</td>\n",
       "      <td>Braund, Mr. Owen Harris</td>\n",
       "      <td>male</td>\n",
       "      <td>22.0</td>\n",
       "      <td>1</td>\n",
       "      <td>0</td>\n",
       "      <td>7.2500</td>\n",
       "      <td>S</td>\n",
       "      <td>Mr</td>\n",
       "    </tr>\n",
       "    <tr>\n",
       "      <th>1</th>\n",
       "      <td>1</td>\n",
       "      <td>1</td>\n",
       "      <td>Cumings, Mrs. John Bradley (Florence Briggs Th...</td>\n",
       "      <td>female</td>\n",
       "      <td>38.0</td>\n",
       "      <td>1</td>\n",
       "      <td>0</td>\n",
       "      <td>71.2833</td>\n",
       "      <td>C</td>\n",
       "      <td>Mrs</td>\n",
       "    </tr>\n",
       "    <tr>\n",
       "      <th>2</th>\n",
       "      <td>1</td>\n",
       "      <td>3</td>\n",
       "      <td>Heikkinen, Miss. Laina</td>\n",
       "      <td>female</td>\n",
       "      <td>26.0</td>\n",
       "      <td>0</td>\n",
       "      <td>0</td>\n",
       "      <td>7.9250</td>\n",
       "      <td>S</td>\n",
       "      <td>Miss</td>\n",
       "    </tr>\n",
       "    <tr>\n",
       "      <th>3</th>\n",
       "      <td>1</td>\n",
       "      <td>1</td>\n",
       "      <td>Futrelle, Mrs. Jacques Heath (Lily May Peel)</td>\n",
       "      <td>female</td>\n",
       "      <td>35.0</td>\n",
       "      <td>1</td>\n",
       "      <td>0</td>\n",
       "      <td>53.1000</td>\n",
       "      <td>S</td>\n",
       "      <td>Mrs</td>\n",
       "    </tr>\n",
       "    <tr>\n",
       "      <th>4</th>\n",
       "      <td>0</td>\n",
       "      <td>3</td>\n",
       "      <td>Allen, Mr. William Henry</td>\n",
       "      <td>male</td>\n",
       "      <td>35.0</td>\n",
       "      <td>0</td>\n",
       "      <td>0</td>\n",
       "      <td>8.0500</td>\n",
       "      <td>S</td>\n",
       "      <td>Mr</td>\n",
       "    </tr>\n",
       "  </tbody>\n",
       "</table>\n",
       "</div>"
      ],
      "text/plain": [
       "  Survived Pclass                                               Name     Sex  \\\n",
       "0        0      3                            Braund, Mr. Owen Harris    male   \n",
       "1        1      1  Cumings, Mrs. John Bradley (Florence Briggs Th...  female   \n",
       "2        1      3                             Heikkinen, Miss. Laina  female   \n",
       "3        1      1       Futrelle, Mrs. Jacques Heath (Lily May Peel)  female   \n",
       "4        0      3                           Allen, Mr. William Henry    male   \n",
       "\n",
       "    Age  SibSp  Parch     Fare Embarked Title  \n",
       "0  22.0      1      0   7.2500        S    Mr  \n",
       "1  38.0      1      0  71.2833        C   Mrs  \n",
       "2  26.0      0      0   7.9250        S  Miss  \n",
       "3  35.0      1      0  53.1000        S   Mrs  \n",
       "4  35.0      0      0   8.0500        S    Mr  "
      ]
     },
     "execution_count": 172,
     "metadata": {},
     "output_type": "execute_result"
    }
   ],
   "source": [
    "train_df.head()"
   ]
  },
  {
   "cell_type": "code",
   "execution_count": 186,
   "metadata": {},
   "outputs": [
    {
     "data": {
      "text/plain": [
       "0    0.616162\n",
       "1    0.383838\n",
       "Name: Survived, dtype: float64"
      ]
     },
     "execution_count": 186,
     "metadata": {},
     "output_type": "execute_result"
    }
   ],
   "source": [
    "# Surival \n",
    "train_df['Survived'].value_counts(normalize=True)\n",
    "# Most people did not survive "
   ]
  },
  {
   "cell_type": "code",
   "execution_count": 204,
   "metadata": {},
   "outputs": [
    {
     "name": "stdout",
     "output_type": "stream",
     "text": [
      "Pclass  Survived\n",
      "1       1           0.629630\n",
      "        0           0.370370\n",
      "2       0           0.527174\n",
      "        1           0.472826\n",
      "3       0           0.757637\n",
      "        1           0.242363\n",
      "Name: Survived, dtype: float64\n",
      "---------------------------------------\n",
      "Sex     Survived\n",
      "female  1           0.742038\n",
      "        0           0.257962\n",
      "male    0           0.811092\n",
      "        1           0.188908\n",
      "Name: Survived, dtype: float64\n",
      "---------------------------------------\n",
      "Parch  Survived\n",
      "0      0           0.656342\n",
      "       1           0.343658\n",
      "1      1           0.550847\n",
      "       0           0.449153\n",
      "2      0           0.500000\n",
      "       1           0.500000\n",
      "3      1           0.600000\n",
      "       0           0.400000\n",
      "4      0           1.000000\n",
      "5      0           0.800000\n",
      "       1           0.200000\n",
      "6      0           1.000000\n",
      "Name: Survived, dtype: float64\n",
      "---------------------------------------\n",
      "Embarked  Survived\n",
      "C         1           0.553571\n",
      "          0           0.446429\n",
      "Q         0           0.610390\n",
      "          1           0.389610\n",
      "S         0           0.663043\n",
      "          1           0.336957\n",
      "Name: Survived, dtype: float64\n",
      "---------------------------------------\n"
     ]
    }
   ],
   "source": [
    "# Did survival differ by class?\n",
    "for col in ['Pclass', 'Sex','Parch','Embarked']:\n",
    "    print(train_df.groupby(col)['Survived'].value_counts(normalize=True))\n",
    "    print('---------------------------------------')\n",
    "    \n",
    "# Note:\n",
    "# Pclass: passengers in class 1 seemed to survive more, passengers in class 3 survived less\n",
    "# Sex: females were more likely to survive \n",
    "# Parch: can't tell \n",
    "# Embarked: those who embarked from Q and S were less likely to survive "
   ]
  },
  {
   "cell_type": "markdown",
   "metadata": {},
   "source": [
    "# Feature engineering"
   ]
  },
  {
   "cell_type": "markdown",
   "metadata": {},
   "source": [
    "## Name variable"
   ]
  },
  {
   "cell_type": "code",
   "execution_count": 153,
   "metadata": {},
   "outputs": [],
   "source": [
    "# looks like the title is afer the first comma\n",
    "train_df['Name'].head(20)\n",
    "\n",
    "# extract title from the name \n",
    "train_df['Title'] = train_df['Name'].str.split(',').str[1].str.split('.').str[0].str.lstrip()\n",
    "test_df['Title'] = test_df['Name'].str.split(',').str[1].str.split('.').str[0].str.lstrip()"
   ]
  },
  {
   "cell_type": "code",
   "execution_count": 154,
   "metadata": {},
   "outputs": [
    {
     "data": {
      "text/plain": [
       "Mr              517\n",
       "Miss            182\n",
       "Mrs             125\n",
       "Master           40\n",
       "Dr                7\n",
       "Rev               6\n",
       "Mlle              2\n",
       "Major             2\n",
       "Col               2\n",
       "the Countess      1\n",
       "Capt              1\n",
       "Ms                1\n",
       "Sir               1\n",
       "Lady              1\n",
       "Mme               1\n",
       "Don               1\n",
       "Jonkheer          1\n",
       "Name: Title, dtype: int64"
      ]
     },
     "execution_count": 154,
     "metadata": {},
     "output_type": "execute_result"
    }
   ],
   "source": [
    "train_df['Title'].value_counts()"
   ]
  },
  {
   "cell_type": "code",
   "execution_count": 155,
   "metadata": {},
   "outputs": [],
   "source": [
    "# replace Ms to Miss (probably a typo)\n",
    "train_df['Title'] = train_df['Title'].replace({'Ms':'Miss'})\n",
    "\n",
    "# The values that are not Mrs, Miss, or Mr seem to be upper-class titles. Let's replace values with upper-class-female and upper-class-male\n",
    "# upper-class-females     \n",
    "index = train_df.query('Sex==\"female\" & ~Title.isin([\"Miss\",\"Mrs\"])').index\n",
    "train_df.loc[index, 'Title'] = 'upper-class-female'\n",
    "\n",
    "# upper-class-males\n",
    "index = train_df.query('Sex==\"male\" & ~Title.isin([\"Mr\"])').index\n",
    "train_df.loc[index, 'Title'] = 'upper-class-male'"
   ]
  },
  {
   "cell_type": "code",
   "execution_count": 156,
   "metadata": {},
   "outputs": [
    {
     "data": {
      "text/plain": [
       "Mr                    517\n",
       "Miss                  183\n",
       "Mrs                   125\n",
       "upper-class-male       60\n",
       "upper-class-female      6\n",
       "Name: Title, dtype: int64"
      ]
     },
     "execution_count": 156,
     "metadata": {},
     "output_type": "execute_result"
    }
   ],
   "source": [
    "train_df['Title'].value_counts()"
   ]
  },
  {
   "cell_type": "code",
   "execution_count": 207,
   "metadata": {},
   "outputs": [],
   "source": [
    "# drop name since we have title \n",
    "train_df = train_df.drop('Name', axis=1)"
   ]
  }
 ],
 "metadata": {
  "interpreter": {
   "hash": "5e433c2cc96ed3512145783f23766469eeea27aa7f4567b8775dec41804b612b"
  },
  "kernelspec": {
   "display_name": "Python 3.8.16 64-bit ('ds_env': conda)",
   "name": "python3"
  },
  "language_info": {
   "codemirror_mode": {
    "name": "ipython",
    "version": 3
   },
   "file_extension": ".py",
   "mimetype": "text/x-python",
   "name": "python",
   "nbconvert_exporter": "python",
   "pygments_lexer": "ipython3",
   "version": "3.8.16"
  },
  "orig_nbformat": 4
 },
 "nbformat": 4,
 "nbformat_minor": 2
}